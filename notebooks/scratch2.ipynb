{
 "cells": [
  {
   "cell_type": "code",
   "execution_count": 1,
   "metadata": {
    "ExecuteTime": {
     "end_time": "2024-11-29T13:45:43.984119Z",
     "start_time": "2024-11-29T13:45:43.977319Z"
    },
    "collapsed": true
   },
   "outputs": [],
   "source": [
    "from typing import List, Tuple, Dict, Any, Optional, Callable"
   ]
  },
  {
   "cell_type": "code",
   "execution_count": 21,
   "metadata": {
    "ExecuteTime": {
     "end_time": "2024-11-29T14:43:31.871904Z",
     "start_time": "2024-11-29T14:43:31.864715Z"
    }
   },
   "outputs": [],
   "source": [
    "class gem:\n",
    "\tdef __init__(self, name):\n",
    "\t\tself.ID = name\n",
    "\t\tself.name = None\n",
    "\t\t\n",
    "\tdef __str__(self):\n",
    "\t\treturn f\"gem({self.ID}, {self.name})\"\n",
    "\t\t\n",
    "\tdef __call__(self, *args, **kwargs):\n",
    "\t\tprint(f\"{self}.__call__({args}, {kwargs})\")\n",
    "\t\treturn self\n",
    "\t\n",
    "\tdef __set_name__(self, owner, name):\n",
    "\t\tself.name = name\n",
    "\t\n",
    "\tdef __set__(self, instance, value):\n",
    "\t\tprint(f\"{self}.__set__({instance}, {value})\")\n",
    "\t\tinstance.__dict__[self.name] = value\n",
    "\n",
    "\tdef __get__(self, instance, owner):\n",
    "\t\tprint(f\"{self}.__get__({instance}, {owner})\")\n",
    "\t\treturn self\n"
   ]
  },
  {
   "cell_type": "code",
   "execution_count": 22,
   "metadata": {
    "ExecuteTime": {
     "end_time": "2024-11-29T14:43:32.913726Z",
     "start_time": "2024-11-29T14:43:32.908140Z"
    }
   },
   "outputs": [
    {
     "name": "stdout",
     "output_type": "stream",
     "text": [
      "gem(b, None).__call__((<function A.f at 0x000002F239B3C040>,), {})\n",
      "gem(a, None).__call__((<__main__.gem object at 0x000002F2395C3590>,), {})\n"
     ]
    }
   ],
   "source": [
    "class A:\n",
    "\t@gem('a')\n",
    "\t@gem('b')\n",
    "\tdef f(self):\n",
    "\t\tpass"
   ]
  },
  {
   "cell_type": "code",
   "execution_count": 23,
   "metadata": {
    "ExecuteTime": {
     "end_time": "2024-11-29T14:43:36.178702Z",
     "start_time": "2024-11-29T14:43:36.172252Z"
    }
   },
   "outputs": [
    {
     "name": "stdout",
     "output_type": "stream",
     "text": [
      "gem(a, f).__set__(<__main__.A object at 0x000002F23929F830>, 10)\n"
     ]
    }
   ],
   "source": [
    "a = A()\n",
    "a.f = 10"
   ]
  },
  {
   "cell_type": "code",
   "execution_count": 24,
   "metadata": {
    "ExecuteTime": {
     "end_time": "2024-11-29T14:43:38.343226Z",
     "start_time": "2024-11-29T14:43:38.337279Z"
    }
   },
   "outputs": [
    {
     "name": "stdout",
     "output_type": "stream",
     "text": [
      "gem(a, f).__set__(<__main__.A object at 0x000002F23929F830>, 11)\n"
     ]
    }
   ],
   "source": [
    "a.f = 11"
   ]
  },
  {
   "cell_type": "code",
   "execution_count": 25,
   "metadata": {
    "ExecuteTime": {
     "end_time": "2024-11-29T14:43:39.017616Z",
     "start_time": "2024-11-29T14:43:39.011323Z"
    }
   },
   "outputs": [
    {
     "name": "stdout",
     "output_type": "stream",
     "text": [
      "gem(a, f).__get__(<__main__.A object at 0x000002F23929F830>, <class '__main__.A'>)\n"
     ]
    },
    {
     "data": {
      "text/plain": [
       "<__main__.gem at 0x2f2395c39b0>"
      ]
     },
     "execution_count": 25,
     "metadata": {},
     "output_type": "execute_result"
    }
   ],
   "source": [
    "a.f"
   ]
  },
  {
   "cell_type": "code",
   "execution_count": 28,
   "metadata": {
    "ExecuteTime": {
     "end_time": "2024-11-29T14:45:58.348023Z",
     "start_time": "2024-11-29T14:45:58.342014Z"
    }
   },
   "outputs": [
    {
     "data": {
      "text/plain": [
       "{'f': 11}"
      ]
     },
     "execution_count": 28,
     "metadata": {},
     "output_type": "execute_result"
    }
   ],
   "source": [
    "a.__dict__"
   ]
  },
  {
   "cell_type": "code",
   "execution_count": null,
   "metadata": {},
   "outputs": [],
   "source": []
  },
  {
   "cell_type": "code",
   "execution_count": 17,
   "metadata": {
    "ExecuteTime": {
     "end_time": "2023-06-03T16:28:29.912387145Z",
     "start_time": "2023-06-03T16:28:29.909114925Z"
    },
    "collapsed": false
   },
   "outputs": [],
   "source": [
    "class D:\n",
    "\tdef __get__(self, instance, owner):\n",
    "\t\tprint(f\"{self}.__get__({instance}, {owner})\")\n",
    "\t\treturn self\n",
    "\n",
    "class A:\n",
    "\tdef f(self):\n",
    "\t\tprint(f\"{self} (type: {type(self)})\")\n",
    "\n",
    "\tg = D()\n"
   ]
  },
  {
   "cell_type": "code",
   "execution_count": 20,
   "metadata": {
    "ExecuteTime": {
     "end_time": "2023-06-04T10:21:05.093246740Z",
     "start_time": "2023-06-04T10:21:05.028939374Z"
    },
    "collapsed": false
   },
   "outputs": [
    {
     "name": "stdout",
     "output_type": "stream",
     "text": [
      "<__main__.D object at 0x7f1b4c403a60>.__get__(<__main__.A object at 0x7f1b4f592e80>, <class '__main__.A'>)\n"
     ]
    },
    {
     "data": {
      "text/plain": [
       "<__main__.D at 0x7f1b4c403a60>"
      ]
     },
     "execution_count": 20,
     "metadata": {},
     "output_type": "execute_result"
    }
   ],
   "source": [
    "a = A()\n",
    "a.g"
   ]
  },
  {
   "cell_type": "code",
   "execution_count": 21,
   "metadata": {
    "ExecuteTime": {
     "end_time": "2023-06-04T10:21:13.361216683Z",
     "start_time": "2023-06-04T10:21:13.356308924Z"
    },
    "collapsed": false
   },
   "outputs": [
    {
     "data": {
      "text/plain": [
       "10"
      ]
     },
     "execution_count": 21,
     "metadata": {},
     "output_type": "execute_result"
    }
   ],
   "source": [
    "a.__dict__['g'] = 10\n",
    "a.g"
   ]
  },
  {
   "cell_type": "code",
   "execution_count": 13,
   "metadata": {
    "ExecuteTime": {
     "end_time": "2023-06-03T16:27:12.689167850Z",
     "start_time": "2023-06-03T16:27:12.686799482Z"
    },
    "collapsed": false
   },
   "outputs": [
    {
     "data": {
      "text/plain": [
       "<bound method A.f of <__main__.A object at 0x7f1b4c453df0>>"
      ]
     },
     "execution_count": 13,
     "metadata": {},
     "output_type": "execute_result"
    }
   ],
   "source": [
    "a = A()\n",
    "a.f"
   ]
  },
  {
   "cell_type": "code",
   "execution_count": 14,
   "metadata": {
    "ExecuteTime": {
     "end_time": "2023-06-03T16:27:13.422147395Z",
     "start_time": "2023-06-03T16:27:13.407924716Z"
    },
    "collapsed": false
   },
   "outputs": [
    {
     "data": {
      "text/plain": [
       "<bound method A.f of <__main__.A object at 0x7f1b4c453df0>>"
      ]
     },
     "execution_count": 14,
     "metadata": {},
     "output_type": "execute_result"
    }
   ],
   "source": [
    "a.f.__get__(A(), A)"
   ]
  },
  {
   "cell_type": "code",
   "execution_count": 16,
   "metadata": {
    "ExecuteTime": {
     "end_time": "2023-06-03T16:27:25.232120316Z",
     "start_time": "2023-06-03T16:27:25.227873746Z"
    },
    "collapsed": false
   },
   "outputs": [
    {
     "name": "stdout",
     "output_type": "stream",
     "text": [
      "<class '__main__.A'> (type: <class 'type'>)\n"
     ]
    }
   ],
   "source": [
    "A.f.__get__(A)()"
   ]
  },
  {
   "cell_type": "code",
   "execution_count": 19,
   "metadata": {
    "ExecuteTime": {
     "end_time": "2023-06-03T16:29:54.262291284Z",
     "start_time": "2023-06-03T16:29:54.220510515Z"
    },
    "collapsed": false
   },
   "outputs": [
    {
     "name": "stdout",
     "output_type": "stream",
     "text": [
      "<__main__.D object at 0x7f1b4c403a60>.__get__(<__main__.A object at 0x7f1b4c453760>, <class '__main__.A'>)\n"
     ]
    },
    {
     "data": {
      "text/plain": [
       "<__main__.D at 0x7f1b4c403a60>"
      ]
     },
     "execution_count": 19,
     "metadata": {},
     "output_type": "execute_result"
    }
   ],
   "source": [
    "A().g"
   ]
  },
  {
   "cell_type": "code",
   "execution_count": 38,
   "metadata": {
    "ExecuteTime": {
     "end_time": "2024-04-08T14:40:32.253203Z",
     "start_time": "2024-04-08T14:40:32.247755Z"
    }
   },
   "outputs": [],
   "source": [
    "import random\n",
    "import math"
   ]
  },
  {
   "cell_type": "code",
   "execution_count": 56,
   "metadata": {
    "ExecuteTime": {
     "end_time": "2024-04-08T14:43:09.613456Z",
     "start_time": "2024-04-08T14:43:09.609829Z"
    }
   },
   "outputs": [],
   "source": [
    "\n",
    "# adapted from https://math.stackexchange.com/questions/1227409/indexing-all-combinations-without-making-list\n",
    "def C(n,k): #computes nCk, the number of combinations n choose k\n",
    "\tresult = 1\n",
    "\tfor i in range(n):\n",
    "\t\tresult*=(i+1)\n",
    "\tfor i in range(k):\n",
    "\t\tresult//=(i+1)\n",
    "\tfor i in range(n-k):\n",
    "\t\tresult//=(i+1)\n",
    "\treturn result\n",
    "\n",
    "C = math.comb\n",
    "def cgen(i,n,k):\n",
    "\t\"\"\"\n",
    "\treturns the i-th combination of k numbers chosen from 0,1,2,...,n-1\n",
    "\t\"\"\"\n",
    "\tmx = C(n,k)\n",
    "\tassert 0 <= i <= mx, f\"i={i} must be in [0, {mx}]\"\n",
    "\tc = []\n",
    "\tr = i\n",
    "\tj = 0\n",
    "\tfor s in range(1,k+1):\n",
    "\t\tcs = j+1\n",
    "\t\twhile r-C(n-cs,k-s)>0:\n",
    "\t\t\tr -= C(n-cs,k-s)\n",
    "\t\t\tcs += 1\n",
    "\t\tc.append(cs-1)\n",
    "\t\tj = cs\n",
    "\treturn c\n"
   ]
  },
  {
   "cell_type": "code",
   "execution_count": 57,
   "metadata": {
    "ExecuteTime": {
     "end_time": "2024-04-08T14:43:10.167092Z",
     "start_time": "2024-04-08T14:43:10.164050Z"
    }
   },
   "outputs": [
    {
     "data": {
      "text/plain": [
       "5311735"
      ]
     },
     "execution_count": 57,
     "metadata": {},
     "output_type": "execute_result"
    }
   ],
   "source": [
    "n = 26\n",
    "k = 10\n",
    "\n",
    "mx = C(n,k)\n",
    "mx"
   ]
  },
  {
   "cell_type": "code",
   "execution_count": 58,
   "metadata": {
    "ExecuteTime": {
     "end_time": "2024-04-08T14:43:10.539460Z",
     "start_time": "2024-04-08T14:43:10.535731Z"
    }
   },
   "outputs": [
    {
     "data": {
      "text/plain": [
       "3543086"
      ]
     },
     "execution_count": 58,
     "metadata": {},
     "output_type": "execute_result"
    }
   ],
   "source": [
    "index = random.randint(0, mx)\n",
    "index"
   ]
  },
  {
   "cell_type": "code",
   "execution_count": 60,
   "metadata": {
    "ExecuteTime": {
     "end_time": "2024-04-08T14:43:16.696994Z",
     "start_time": "2024-04-08T14:43:16.693842Z"
    },
    "collapsed": false
   },
   "outputs": [
    {
     "data": {
      "text/plain": [
       "[2, 3, 5, 13, 15, 16, 18, 19, 20, 25]"
      ]
     },
     "execution_count": 60,
     "metadata": {},
     "output_type": "execute_result"
    }
   ],
   "source": [
    "cgen(index, n, k)"
   ]
  },
  {
   "cell_type": "code",
   "execution_count": null,
   "metadata": {},
   "outputs": [],
   "source": []
  },
  {
   "cell_type": "code",
   "execution_count": 3,
   "metadata": {
    "ExecuteTime": {
     "end_time": "2024-11-12T03:59:57.292556Z",
     "start_time": "2024-11-12T03:59:57.272473Z"
    }
   },
   "outputs": [
    {
     "name": "stdout",
     "output_type": "stream",
     "text": [
      "└── Attempt: c via _ToolSkill(c)\n",
      "    ├── Attempt: b via AutoToolCraft(b)\n",
      "    │   ├── Failure: b, Error: GadgetFailure(None)\n",
      "    │   ├── Cached: d = 5\n",
      "    │   ├── Success: c = 15\n",
      "    │   └── Attempt: b via _ToolSkill(b)\n",
      "    │       ├── Success: b = 20\n",
      "    │       └── Attempt: a via _ToolSkill(a)\n",
      "    │           └── Success: a = 10\n",
      "    ├── Attempt: a via _ToolSkill(a)\n",
      "    │   └── Success: a = 10\n",
      "    └── Attempt: b via AutoToolCraft(b)\n",
      "        ├── Failure: b, Error: GadgetFailure(None)\n",
      "        ├── Attempt: b via _ToolSkill(b)\n",
      "        │   ├── Cached: a = 10\n",
      "        │   └── Success: b = 20\n",
      "        └── Attempt: c via _ToolSkill(c)\n",
      "            ├── Cached: b = 20\n",
      "            ├── Missing: d\n",
      "            └── Cached: a = 10\n"
     ]
    }
   ],
   "source": [
    "class Node:\n",
    "\tdef __init__(self, gizmo=None, gadget=None):\n",
    "\t\tself.gizmo = gizmo\n",
    "\t\tself.gadget = gadget\n",
    "\t\tself.events = []  # List of events under this attempt (e.g., failures, successes, cached)\n",
    "\t\tself.children = []  # List of child attempt nodes\n",
    "\n",
    "def process_log(log):\n",
    "\troot_nodes = []\n",
    "\tstack = []\n",
    "\n",
    "\tfor event in log:\n",
    "\t\tevent_type = event[0]\n",
    "\n",
    "\t\tif event_type == 'attempt':\n",
    "\t\t\t_, gizmo, gadget = event\n",
    "\t\t\tnode = Node(gizmo=gizmo, gadget=gadget)\n",
    "\t\t\tif stack:\n",
    "\t\t\t\t# Add as child of current node\n",
    "\t\t\t\tstack[-1].children.append(node)\n",
    "\t\t\telse:\n",
    "\t\t\t\t# Top-level attempt\n",
    "\t\t\t\troot_nodes.append(node)\n",
    "\t\t\tstack.append(node)\n",
    "\n",
    "\t\telif event_type == 'cached':\n",
    "\t\t\t_, gizmo, value = event\n",
    "\t\t\tif stack:\n",
    "\t\t\t\t# Add to events of current node\n",
    "\t\t\t\tstack[-1].events.append(('cached', gizmo, value))\n",
    "\t\t\telse:\n",
    "\t\t\t\t# Top-level cached event\n",
    "\t\t\t\troot_nodes.append(('cached', gizmo, value))\n",
    "\n",
    "\t\telif event_type == 'success':\n",
    "\t\t\t_, gizmo, gadget, value = event\n",
    "\t\t\tif stack:\n",
    "\t\t\t\tnode = stack.pop()\n",
    "\t\t\t\tnode.events.append(('success', gizmo, value))\n",
    "\t\t\telse:\n",
    "\t\t\t\troot_nodes.append(('success', gizmo, value))\n",
    "\n",
    "\t\telif event_type == 'failure':\n",
    "\t\t\t_, gizmo, gadget, error = event\n",
    "\t\t\tif stack:\n",
    "\t\t\t\tnode = stack[-1]\n",
    "\t\t\t\tnode.events.append(('failure', gizmo, error))\n",
    "\t\t\t\t# Do not pop from the stack; attempt may continue\n",
    "\t\t\telse:\n",
    "\t\t\t\troot_nodes.append(('failure', gizmo, error))\n",
    "\n",
    "\t\telif event_type == 'missing':\n",
    "\t\t\t_, gizmo = event\n",
    "\t\t\tif stack:\n",
    "\t\t\t\tnode = stack[-1]\n",
    "\t\t\t\tnode.events.append(('missing', gizmo))\n",
    "\t\t\t\t# Optionally handle the missing event\n",
    "\t\t\telse:\n",
    "\t\t\t\troot_nodes.append(('missing', gizmo))\n",
    "\n",
    "\treturn root_nodes\n",
    "\n",
    "def print_node(node, prefix='', is_last=True):\n",
    "\t# Determine the connector\n",
    "\tconnector = '└── ' if is_last else '├── '\n",
    "\n",
    "\t# Print the attempt\n",
    "\tprint(prefix + connector + 'Attempt: {} via {}'.format(node.gizmo, node.gadget))\n",
    "\n",
    "\t# Prepare the new prefix for child nodes\n",
    "\tif is_last:\n",
    "\t\tchild_prefix = prefix + '    '\n",
    "\telse:\n",
    "\t\tchild_prefix = prefix + '│   '\n",
    "\n",
    "\t# Combine events and children into one list, preserving order\n",
    "\titems = []\n",
    "\n",
    "\t# Add events first\n",
    "\tfor event in node.events:\n",
    "\t\titems.append(event)\n",
    "\n",
    "\t# Then add child attempts\n",
    "\tfor child in node.children:\n",
    "\t\titems.append(child)\n",
    "\n",
    "\t# Now, print each item\n",
    "\tcount = len(items)\n",
    "\tfor i, item in enumerate(items):\n",
    "\t\titem_is_last = (i == count -1)\n",
    "\t\tif isinstance(item, Node):\n",
    "\t\t\t# It's a child node\n",
    "\t\t\tprint_node(item, child_prefix, item_is_last)\n",
    "\t\telse:\n",
    "\t\t\t# It's an event\n",
    "\t\t\tevent_type = item[0]\n",
    "\t\t\tconnector = '└── ' if item_is_last else '├── '\n",
    "\t\t\tif event_type == 'failure':\n",
    "\t\t\t\t_, gizmo, error = item\n",
    "\t\t\t\tprint(child_prefix + connector + 'Failure: {}, Error: {}'.format(gizmo, error))\n",
    "\t\t\telif event_type == 'success':\n",
    "\t\t\t\t_, gizmo, value = item\n",
    "\t\t\t\tprint(child_prefix + connector + 'Success: {} = {}'.format(gizmo, value))\n",
    "\t\t\telif event_type == 'cached':\n",
    "\t\t\t\t_, gizmo, value = item\n",
    "\t\t\t\tprint(child_prefix + connector + 'Cached: {} = {}'.format(gizmo, value))\n",
    "\t\t\telif event_type == 'missing':\n",
    "\t\t\t\t_, gizmo = item\n",
    "\t\t\t\tprint(child_prefix + connector + 'Missing: {}'.format(gizmo))\n",
    "\t\t\telse:\n",
    "\t\t\t\tprint(child_prefix + connector + '{}: {}'.format(event_type, gizmo))\n",
    "\n",
    "# Example log data\n",
    "log = [\n",
    "\t('attempt', 'c', '_ToolSkill(c)'),\n",
    "\t('attempt', 'b', 'AutoToolCraft(b)'),\n",
    "\t('failure', 'b', 'AutoToolCraft(b)', 'GadgetFailure(None)'),\n",
    "\t('attempt', 'b', '_ToolSkill(b)'),\n",
    "\t('attempt', 'a', '_ToolSkill(a)'),\n",
    "\t('success', 'a', '_ToolSkill(a)', 10),\n",
    "\t('success', 'b', '_ToolSkill(b)', 20),\n",
    "\t('cached', 'd', 5),\n",
    "\t('success', 'c', '_ToolSkill(c)', 15),\n",
    "\t('attempt', 'a', '_ToolSkill(a)'),\n",
    "\t('success', 'a', '_ToolSkill(a)', 10),\n",
    "\t('attempt', 'b', 'AutoToolCraft(b)'),\n",
    "\t('failure', 'b', 'AutoToolCraft(b)', 'GadgetFailure(None)'),\n",
    "\t('attempt', 'b', '_ToolSkill(b)'),\n",
    "\t('cached', 'a', 10),\n",
    "\t('success', 'b', '_ToolSkill(b)', 20),\n",
    "\t('attempt', 'c', '_ToolSkill(c)'),\n",
    "\t('cached', 'b', 20),\n",
    "\t('missing', 'd'),\n",
    "\t('cached', 'a', 10),\n",
    "]\n",
    "\n",
    "# Process the log and build the tree\n",
    "root_nodes = process_log(log)\n",
    "\n",
    "# Print the tree structure\n",
    "for i, node in enumerate(root_nodes):\n",
    "\tis_last = (i == len(root_nodes) - 1)\n",
    "\tif isinstance(node, Node):\n",
    "\t\tprint_node(node, '', is_last)\n",
    "\telse:\n",
    "\t\t# It's an event at the root level\n",
    "\t\tevent_type = node[0]\n",
    "\t\tconnector = '└── ' if is_last else '├── '\n",
    "\t\tif event_type == 'cached':\n",
    "\t\t\t_, gizmo, value = node\n",
    "\t\t\tprint(connector + 'Cached: {} = {}'.format(gizmo, value))\n",
    "\t\telif event_type == 'failure':\n",
    "\t\t\t_, gizmo, error = node\n",
    "\t\t\tprint(connector + 'Failure: {}, Error: {}'.format(gizmo, error))\n",
    "\t\telif event_type == 'success':\n",
    "\t\t\t_, gizmo, value = node\n",
    "\t\t\tprint(connector + 'Success: {} = {}'.format(gizmo, value))\n",
    "\t\telif event_type == 'missing':\n",
    "\t\t\t_, gizmo = node\n",
    "\t\t\tprint(connector + 'Missing: {}'.format(gizmo))\n",
    "\t\telse:\n",
    "\t\t\tprint(connector + '{}: {}'.format(event_type, gizmo))\n"
   ]
  },
  {
   "cell_type": "code",
   "execution_count": 3,
   "metadata": {
    "ExecuteTime": {
     "end_time": "2024-11-12T04:28:30.055006Z",
     "start_time": "2024-11-12T04:28:30.040767Z"
    }
   },
   "outputs": [
    {
     "name": "stdout",
     "output_type": "stream",
     "text": [
      "┌── Attempt: c via _ToolSkill(c)\n",
      "┌── Attempt: b via AutoToolCraft(b)\n",
      "└── Failure: b, Error: GadgetFailure(None)\n",
      "┌── Attempt: b via _ToolSkill(b)\n",
      "│   ┌── Attempt: a via _ToolSkill(a)\n",
      "│   └── Success: a = 10\n",
      "└── Success: b = 20\n",
      "├── Cached: d = 5\n",
      "└── Success: c = 15\n",
      "┌── Attempt: a via _ToolSkill(a)\n",
      "└── Success: a = 10\n",
      "┌── Attempt: b via AutoToolCraft(b)\n",
      "└── Failure: b, Error: GadgetFailure(None)\n",
      "┌── Attempt: b via _ToolSkill(b)\n",
      "├── Cached: a = 10\n",
      "└── Success: b = 20\n",
      "┌── Attempt: c via _ToolSkill(c)\n",
      "├── Cached: b = 20\n",
      "├── Missing: d\n",
      "└── Failure: c, Error: Missing dependency: d\n",
      "Cached: a = 10\n",
      "┌── Attempt: c via _ToolSkill(c)\n",
      "┌── Attempt: b via AutoToolCraft(b)\n",
      "└── Failure: b, Error: GadgetFailure(None)\n",
      "┌── Attempt: b via _ToolSkill(b)\n",
      "│   ┌── Attempt: a via _ToolSkill(a)\n",
      "│   └── Success: a = 10\n",
      "└── Success: b = 20\n",
      "├── Cached: d = 5\n",
      "└── Success: c = 15\n",
      "┌── Attempt: a via _ToolSkill(a)\n",
      "└── Success: a = 10\n",
      "┌── Attempt: b via AutoToolCraft(b)\n",
      "└── Failure: b, Error: GadgetFailure(None)\n",
      "┌── Attempt: b via _ToolSkill(b)\n",
      "├── Cached: a = 10\n",
      "└── Success: b = 20\n",
      "┌── Attempt: c via _ToolSkill(c)\n",
      "├── Cached: b = 20\n",
      "├── Missing: d\n",
      "└── Failure: c, Error: Missing dependency: d\n",
      "Cached: a = 10\n"
     ]
    }
   ],
   "source": [
    "def visualize_log(log):\n",
    "\tstack = []  # Keeps track of open attempts\n",
    "\tindents = []  # Tracks the indentation and pipe characters for each level\n",
    "\n",
    "\tfor event in log:\n",
    "\t\tevent_type = event[0]\n",
    "\n",
    "\t\tif event_type == 'attempt':\n",
    "\t\t\t_, gizmo, gadget = event\n",
    "\t\t\t# Push the attempt onto the stack\n",
    "\t\t\tnode = {'gizmo': gizmo, 'gadget': gadget, 'children': []}\n",
    "\t\t\tif stack:\n",
    "\t\t\t\t# Append to the children of the parent node\n",
    "\t\t\t\tstack[-1]['children'].append(node)\n",
    "\t\t\tstack.append(node)\n",
    "\t\t\t# Update indents for the new level\n",
    "\t\t\tif len(stack) == 1:\n",
    "\t\t\t\tindents.append('')\n",
    "\t\t\telse:\n",
    "\t\t\t\t# Determine if the parent has more children to decide the pipe character\n",
    "\t\t\t\tif len(stack[-2]['children']) > 1:\n",
    "\t\t\t\t\tindents.append('│   ')\n",
    "\t\t\t\telse:\n",
    "\t\t\t\t\tindents.append('    ')\n",
    "\t\t\t# Print the attempt with '┌── ' to start the pipe\n",
    "\t\t\tprefix = ''.join(indents[:-1]) + '┌── '\n",
    "\t\t\tprint(prefix + 'Attempt: {} via {}'.format(gizmo, gadget))\n",
    "\n",
    "\t\telif event_type == 'cached':\n",
    "\t\t\t_, gizmo, value = event\n",
    "\t\t\t# Print the cached event at the current indentation level\n",
    "\t\t\tprefix = ''.join(indents) + ('├── ' if stack else '')\n",
    "\t\t\tprint(prefix + 'Cached: {} = {}'.format(gizmo, value))\n",
    "\n",
    "\t\telif event_type == 'success':\n",
    "\t\t\t_, gizmo, gadget, value = event\n",
    "\t\t\t# Pop the attempt from the stack\n",
    "\t\t\tnode = stack.pop()\n",
    "\t\t\t# Adjust indents\n",
    "\t\t\tif stack:\n",
    "\t\t\t\tindents.pop()\n",
    "\t\t\t# Print the success with '└── ' to close the pipe\n",
    "\t\t\tprefix = ''.join(indents) + ('└── ' if stack else '└── ')\n",
    "\t\t\tprint(prefix + 'Success: {} = {}'.format(gizmo, value))\n",
    "\n",
    "\t\telif event_type == 'failure':\n",
    "\t\t\t_, gizmo, gadget, error = event\n",
    "\t\t\t# Pop the attempt from the stack\n",
    "\t\t\tnode = stack.pop()\n",
    "\t\t\t# Adjust indents\n",
    "\t\t\tif stack:\n",
    "\t\t\t\tindents.pop()\n",
    "\t\t\t# Print the failure with '└── ' to close the pipe\n",
    "\t\t\tprefix = ''.join(indents) + ('└── ' if stack else '└── ')\n",
    "\t\t\tprint(prefix + 'Failure: {}, Error: {}'.format(gizmo, error))\n",
    "\n",
    "\t\telif event_type == 'missing':\n",
    "\t\t\t_, gizmo = event\n",
    "\t\t\t# Print the missing event\n",
    "\t\t\tprefix = ''.join(indents) + '├── '\n",
    "\t\t\tprint(prefix + 'Missing: {}'.format(gizmo))\n",
    "\t\t\tif stack:\n",
    "\t\t\t\t# Pop the parent attempt from the stack due to failure\n",
    "\t\t\t\tnode = stack.pop()\n",
    "\t\t\t\tif stack:\n",
    "\t\t\t\t\tindents.pop()\n",
    "\t\t\t\t# Print the failure of the parent attempt\n",
    "\t\t\t\tprefix = ''.join(indents) + ('└── ' if stack else '└── ')\n",
    "\t\t\t\tprint(prefix + 'Failure: {}, Error: Missing dependency: {}'.format(node['gizmo'], gizmo))\n",
    "\n",
    "log = [\n",
    "\t('attempt', 'c', '_ToolSkill(c)'),\n",
    "\t('attempt', 'b', 'AutoToolCraft(b)'),\n",
    "\t('failure', 'b', 'AutoToolCraft(b)', 'GadgetFailure(None)'),\n",
    "\t('attempt', 'b', '_ToolSkill(b)'),\n",
    "\t('attempt', 'a', '_ToolSkill(a)'),\n",
    "\t('success', 'a', '_ToolSkill(a)', 10),\n",
    "\t('success', 'b', '_ToolSkill(b)', 20),\n",
    "\t('cached', 'd', 5),\n",
    "\t('success', 'c', '_ToolSkill(c)', 15),\n",
    "\t('attempt', 'a', '_ToolSkill(a)'),\n",
    "\t('success', 'a', '_ToolSkill(a)', 10),\n",
    "\t('attempt', 'b', 'AutoToolCraft(b)'),\n",
    "\t('failure', 'b', 'AutoToolCraft(b)', 'GadgetFailure(None)'),\n",
    "\t('attempt', 'b', '_ToolSkill(b)'),\n",
    "\t('cached', 'a', 10),\n",
    "\t('success', 'b', '_ToolSkill(b)', 20),\n",
    "\t('attempt', 'c', '_ToolSkill(c)'),\n",
    "\t('cached', 'b', 20),\n",
    "\t('missing', 'd'),\n",
    "\t('cached', 'a', 10),\n",
    "]\n",
    "\n",
    "# Visualize the log\n",
    "visualize_log(log)\n",
    "\n",
    "visualize_log(log)"
   ]
  },
  {
   "cell_type": "code",
   "execution_count": null,
   "metadata": {},
   "outputs": [],
   "source": []
  },
  {
   "cell_type": "code",
   "execution_count": 4,
   "metadata": {
    "ExecuteTime": {
     "end_time": "2024-11-12T04:28:32.364224Z",
     "start_time": "2024-11-12T04:28:32.345146Z"
    }
   },
   "outputs": [
    {
     "data": {
      "text/plain": [
       "[Node(c), Node(a), Node(b), Node(c), Node(a)]"
      ]
     },
     "execution_count": 4,
     "metadata": {},
     "output_type": "execute_result"
    }
   ],
   "source": [
    "\n",
    "root = process_log(log)\n",
    "root"
   ]
  },
  {
   "cell_type": "code",
   "execution_count": 10,
   "metadata": {
    "ExecuteTime": {
     "end_time": "2024-11-12T04:29:06.633018Z",
     "start_time": "2024-11-12T04:29:06.625313Z"
    }
   },
   "outputs": [
    {
     "data": {
      "text/plain": [
       "[Node(a)]"
      ]
     },
     "execution_count": 10,
     "metadata": {},
     "output_type": "execute_result"
    }
   ],
   "source": [
    "root[2].followup"
   ]
  },
  {
   "cell_type": "code",
   "execution_count": 155,
   "metadata": {
    "ExecuteTime": {
     "end_time": "2024-11-12T05:54:10.028092Z",
     "start_time": "2024-11-12T05:54:10.015335Z"
    }
   },
   "outputs": [],
   "source": [
    "def print_node_tree(node, prefix='', is_last=True, is_followup=False):\n",
    "\t# Determine the connector\n",
    "\t# is_last = is_last or node.followup is not None\n",
    "\tconnector = '└── ' if is_last else '├── '\n",
    "\tconnector = '│   ' if is_followup else connector\n",
    "\n",
    "\t# Print the attempt\n",
    "\tprint(prefix + connector + f\"{node.gizmo} ({node.outcome})\")\n",
    "\n",
    "\t# Prepare the new prefix for child nodes\n",
    "\tif is_last:\n",
    "\t\tchild_prefix = prefix + '    '\n",
    "\telse:\n",
    "\t\tchild_prefix = prefix + '│   '\n",
    "\n",
    "\t# Print each child\n",
    "\tcount = len(node.children)\n",
    "\tfor i, child in enumerate(node.children):\n",
    "\t\tis_last = (i == count - 1)\n",
    "\t\tprint_node_tree(child, child_prefix, is_last)\n",
    "\n",
    "\tif node.followup:\n",
    "\t\tprint_node_tree(node.followup, prefix, is_last, True)\n",
    "\n",
    "def print_event_tree(node, prefix='', is_last=True, is_followup=False):\n",
    "\n",
    "\tif node.outcome == 'cached':\n",
    "\t\tprint(prefix + '─── ' + f\"{node.gizmo} = {node.value}\")\n",
    "\t\treturn\n",
    "\n",
    "\tstarter = '├── ' if is_followup else '┌── '\n",
    "\n",
    "\tif node.followup:\n",
    "\t\tprint(prefix + starter + f\"{node.gizmo} ({node.outcome})\")\n",
    "\t\tprint_event_tree(node.followup, prefix, is_last, True)\n",
    "\telse:\n",
    "\t\tprint(prefix + starter + f\"{node.gizmo}\")\n",
    "\t\tprefix += '│   '\n",
    "\t\tfor child in node.children:\n",
    "\t\t\tprint_event_tree(child, prefix, is_last)\n",
    "\t\tprefix = prefix[:-4]\n",
    "\t\tender = '└── '\n",
    "\t\tprint(prefix + ender + f\"{node.outcome}\")\n",
    "\n",
    "\n",
    "def print_node_tree(node, prefix='', is_first=True, is_last=True, is_followup=False, *, width=4, printer=None):\n",
    "\tif printer is None:\n",
    "\t\tprinter = lambda node: node.gizmo\n",
    "\tassert width >= 2, 'width must be at least 2'\n",
    "\t# Determine the connector\n",
    "\t# is_last = is_last or node.followup is not None\n",
    "\tif is_first:\n",
    "\t\tconnector = ''\n",
    "\telif is_last:\n",
    "\t\tconnector = '└' + '─' * (width - 2) + ' '\n",
    "\telif node.followup is not None:\n",
    "\t\tconnector = '│' + ' ' * (width - 2) + ' '\n",
    "\telse:\n",
    "\t\tconnector = '├' + '─' * (width - 2) + ' '\n",
    "\t# Print the attempt\n",
    "\tyield prefix + connector + printer(node)\n",
    "\n",
    "\t# Prepare the new prefix for child nodes\n",
    "\tif is_first:\n",
    "\t\tchild_prefix = prefix\n",
    "\telif is_last:\n",
    "\t\tchild_prefix = prefix + ' ' * width\n",
    "\telse:\n",
    "\t\tchild_prefix = prefix + '│' + ' ' * (width - 1)\n",
    "\n",
    "\t# Print each child\n",
    "\tcount = len(node.children)\n",
    "\tfor i, child in enumerate(node.children):\n",
    "\t\tis_last = (i == count - 1)\n",
    "\t\tyield from print_node_tree(child, child_prefix, False, is_last, width=width, printer=printer)\n",
    "\n",
    "\tif node.followup:\n",
    "\t\tyield from print_node_tree(node.followup, prefix, False, is_last, True, width=width, printer=printer)\n"
   ]
  },
  {
   "cell_type": "code",
   "execution_count": 156,
   "metadata": {
    "ExecuteTime": {
     "end_time": "2024-11-12T05:54:10.736758Z",
     "start_time": "2024-11-12T05:54:10.730263Z"
    }
   },
   "outputs": [
    {
     "name": "stdout",
     "output_type": "stream",
     "text": [
      "c\n",
      "│   b\n",
      "├── b\n",
      "│   └── a\n",
      "└── d\n"
     ]
    }
   ],
   "source": [
    "print('\\n'.join(print_node_tree(root[0], width=4)))"
   ]
  },
  {
   "cell_type": "code",
   "execution_count": null,
   "metadata": {},
   "outputs": [],
   "source": []
  },
  {
   "cell_type": "markdown",
   "metadata": {},
   "source": [
    "```\n",
    "┌── c\n",
    "│   ├── b (failure)\n",
    "│   │   b\n",
    "│   │   └── a\n",
    "│   └── d = 5\n",
    "└── success\n",
    "\n",
    "┌── c\n",
    "│   ┌── b (failure)\n",
    "│   ├── b\n",
    "│   │   ┌── a\n",
    "│   │   └── success\n",
    "│   └── success\n",
    "│   ─── d = 5\n",
    "└── success\n",
    "\n",
    "c (success)\n",
    "├── b (failure)\n",
    "│   b (success)\n",
    "│   └── a (success)\n",
    "└── d (cached)\n",
    "\n",
    "c (success)\n",
    "├─ b (failure)\n",
    "│  b (success)\n",
    "│  └─ a (success)\n",
    "└─ d (cached)\n",
    "\n",
    "c (success)\n",
    "├ b (failure)\n",
    "│ b (success)\n",
    "│ └ a (success)\n",
    "└ d (cached)"
   ]
  },
  {
   "cell_type": "code",
   "execution_count": null,
   "metadata": {},
   "outputs": [],
   "source": []
  },
  {
   "cell_type": "code",
   "execution_count": null,
   "metadata": {},
   "outputs": [],
   "source": []
  },
  {
   "cell_type": "code",
   "execution_count": 129,
   "metadata": {
    "ExecuteTime": {
     "end_time": "2024-11-12T05:35:30.063461Z",
     "start_time": "2024-11-12T05:35:30.054158Z"
    }
   },
   "outputs": [],
   "source": [
    "def report_time(t):\n",
    "\tunits = [\n",
    "\t\t\t\t('h', 3600, None),\n",
    "\t\t\t\t('min', 60, 3600),\n",
    "\t\t\t\t('s', 1, 60),\n",
    "\t\t\t\t('ms', 1e-3, 1),\n",
    "\t\t\t\t('µs', 1e-6, 1e-4)\n",
    "\t\t\t][::-1]\n",
    "\tif t == 0:\n",
    "\t\treturn '0 µs'\n",
    "\tfor i, (unit_name, unit_scale, next_unit_threshold) in enumerate(units):\n",
    "\t\tvalue = t / unit_scale\n",
    "\t\tformatted_value = format_sig_figs(value, 2)\n",
    "\t\trounded_value = float(formatted_value)\n",
    "\n",
    "\t\t# Check if the rounded value reaches or exceeds the threshold for the next unit\n",
    "\t\tif next_unit_threshold is not None:\n",
    "\t\t\tnext_unit_value = next_unit_threshold / unit_scale\n",
    "\t\t\tif rounded_value > next_unit_value:\n",
    "\t\t\t\tcontinue  # Move to the next larger unit\n",
    "\n",
    "\t\treturn f\"{formatted_value} {unit_name}\"\n",
    "\t# If none of the units matched, default to the largest unit\n",
    "\tvalue = t / units[-1][1]\n",
    "\tformatted_value = format_sig_figs(value, 2)\n",
    "\treturn f\"{formatted_value} {units[-1][0]}\"\n",
    "\n",
    "def format_sig_figs(num, sig_figs):\n",
    "\tif num == 0:\n",
    "\t\treturn \"0\"\n",
    "\telse:\n",
    "\t\timport math\n",
    "\t\torder = int(math.floor(math.log10(abs(num))))\n",
    "\t\tfactor = 10 ** (sig_figs - 1 - order)\n",
    "\t\trounded_num = round(num * factor) / factor\n",
    "\t\tdecimals = max(sig_figs - order - 1, 0)\n",
    "\t\t# Avoid unnecessary decimal places if rounded_num is an integer\n",
    "\t\tif rounded_num == int(rounded_num):\n",
    "\t\t\tdecimals = 0\n",
    "\t\tformat_string = \"{0:.\" + str(decimals) + \"f}\"\n",
    "\t\treturn format_string.format(rounded_num)"
   ]
  },
  {
   "cell_type": "code",
   "execution_count": 130,
   "metadata": {
    "ExecuteTime": {
     "end_time": "2024-11-12T05:35:31.491136Z",
     "start_time": "2024-11-12T05:35:31.464130Z"
    }
   },
   "outputs": [
    {
     "ename": "AssertionError",
     "evalue": "",
     "output_type": "error",
     "traceback": [
      "\u001b[1;31m---------------------------------------------------------------------------\u001b[0m",
      "\u001b[1;31mAssertionError\u001b[0m                            Traceback (most recent call last)",
      "Cell \u001b[1;32mIn[130], line 8\u001b[0m\n\u001b[0;32m      5\u001b[0m \u001b[38;5;28;01massert\u001b[39;00m report_time(\u001b[38;5;241m9.99e-5\u001b[39m) \u001b[38;5;241m==\u001b[39m \u001b[38;5;124m\"\u001b[39m\u001b[38;5;124m100 µs\u001b[39m\u001b[38;5;124m\"\u001b[39m\n\u001b[0;32m      7\u001b[0m \u001b[38;5;66;03m# Test milliseconds\u001b[39;00m\n\u001b[1;32m----> 8\u001b[0m \u001b[38;5;28;01massert\u001b[39;00m report_time(\u001b[38;5;241m1e-4\u001b[39m) \u001b[38;5;241m==\u001b[39m \u001b[38;5;124m\"\u001b[39m\u001b[38;5;124m0.10 ms\u001b[39m\u001b[38;5;124m\"\u001b[39m\n\u001b[0;32m      9\u001b[0m \u001b[38;5;28;01massert\u001b[39;00m report_time(\u001b[38;5;241m0.00015\u001b[39m) \u001b[38;5;241m==\u001b[39m \u001b[38;5;124m\"\u001b[39m\u001b[38;5;124m0.15 ms\u001b[39m\u001b[38;5;124m\"\u001b[39m\n\u001b[0;32m     10\u001b[0m \u001b[38;5;28;01massert\u001b[39;00m report_time(\u001b[38;5;241m0.005\u001b[39m) \u001b[38;5;241m==\u001b[39m \u001b[38;5;124m\"\u001b[39m\u001b[38;5;124m5.0 ms\u001b[39m\u001b[38;5;124m\"\u001b[39m\n",
      "\u001b[1;31mAssertionError\u001b[0m: "
     ]
    }
   ],
   "source": [
    "# Test microseconds\n",
    "assert report_time(0) == \"0 µs\"\n",
    "assert report_time(1e-7) == \"0.10 µs\"\n",
    "assert report_time(5e-5) == \"50 µs\"\n",
    "assert report_time(9.99e-5) == \"100 µs\"\n",
    "\n",
    "# Test milliseconds\n",
    "assert report_time(1e-4) == \"0.10 ms\"\n",
    "assert report_time(0.00015) == \"0.15 ms\"\n",
    "assert report_time(0.005) == \"5.0 ms\"\n",
    "assert report_time(0.0999) == \"100 ms\"\n",
    "assert report_time(0.14122) == \"140 ms\"\n",
    "assert report_time(0.999) == \"1 s\"\n",
    "\n",
    "# Test seconds\n",
    "assert report_time(1) == \"1.0 s\"\n",
    "assert report_time(1.5) == \"1.5 s\"\n",
    "assert report_time(30.5) == \"31 s\"\n",
    "assert report_time(59.99) == \"60 s\"\n",
    "\n",
    "# Test minutes\n",
    "assert report_time(60) == \"1.0 min\"\n",
    "assert report_time(90) == \"1.5 min\"\n",
    "assert report_time(1800) == \"30 min\"\n",
    "assert report_time(3599) == \"60 min\"\n",
    "\n",
    "# Test hours\n",
    "assert report_time(3600) == \"1.0 h\"\n",
    "assert report_time(7200) == \"2.0 h\"\n",
    "assert report_time(10800) == \"3.0 h\"\n",
    "assert report_time(86400) == \"24 h\"\n",
    "\n",
    "# Test large values\n",
    "assert report_time(1e6) == \"280 h\"          # 1 million seconds\n",
    "assert report_time(2.592e6) == \"720 h\"      # 30 days in seconds\n",
    "assert report_time(1e9) == \"280,000 h\"      # Should not be in scientific notation\n",
    "\n",
    "# Test small values\n",
    "assert report_time(1e-10) == \"0.00010 µs\"\n",
    "assert report_time(5e-9) == \"0.0050 µs\"\n",
    "\n",
    "# Test negative values\n",
    "assert report_time(-1e-7) == \"-0.10 µs\"\n",
    "assert report_time(-0.005) == \"-5.0 ms\"\n",
    "assert report_time(-1) == \"-1.0 s\"\n",
    "assert report_time(-3600) == \"-1.0 h\"\n",
    "\n",
    "# Test edge cases\n",
    "assert report_time(1e-4) == \"0.10 ms\"  # Threshold between µs and ms\n",
    "assert report_time(1) == \"1.0 s\"       # Threshold between ms and s\n",
    "assert report_time(60) == \"1.0 min\"    # Threshold between s and min\n",
    "assert report_time(3600) == \"1.0 h\"    # Threshold between min and h\n",
    "\n",
    "# Test zero\n",
    "assert report_time(0) == \"0 µs\"\n",
    "\n",
    "# Test precision\n",
    "assert report_time(0.123456) == \"120 ms\"\n",
    "assert report_time(12.3456) == \"12 s\"\n",
    "assert report_time(123.456) == \"120 s\"\n",
    "assert report_time(1234.56) == \"21 min\"\n",
    "\n",
    "# Test no scientific notation\n",
    "result = report_time(999)\n",
    "assert \"e\" not in result, \"Output contains scientific notation\"\n",
    "result = report_time(1e6)\n",
    "assert \"e\" not in result, \"Output contains scientific notation\"\n"
   ]
  },
  {
   "cell_type": "code",
   "execution_count": 135,
   "metadata": {
    "ExecuteTime": {
     "end_time": "2024-11-12T05:36:02.195032Z",
     "start_time": "2024-11-12T05:36:02.189454Z"
    }
   },
   "outputs": [
    {
     "data": {
      "text/plain": [
       "'100 µs'"
      ]
     },
     "execution_count": 135,
     "metadata": {},
     "output_type": "execute_result"
    }
   ],
   "source": [
    "report_time(104e-6)"
   ]
  },
  {
   "cell_type": "code",
   "execution_count": 1,
   "metadata": {
    "ExecuteTime": {
     "end_time": "2025-07-07T13:19:22.952324Z",
     "start_time": "2025-07-07T13:19:22.940996Z"
    }
   },
   "outputs": [],
   "source": [
    "class A:\n",
    "\tdef __init__(self, *args, **kwargs):\n",
    "\t\tprint('init', args, kwargs)\n",
    "\t\tpass\n",
    "\n",
    "\tdef __call__(self, *args, **kwargs):\n",
    "\t\tprint('call', args, kwargs)\n",
    "\t\treturn self\n",
    "\n",
    "\tdef build(self, *args, **kwargs):\n",
    "\t\tprint('build', args, kwargs)\n",
    "\t\treturn self"
   ]
  },
  {
   "cell_type": "code",
   "execution_count": 3,
   "metadata": {
    "ExecuteTime": {
     "end_time": "2025-07-07T13:20:02.998594Z",
     "start_time": "2025-07-07T13:20:02.990987Z"
    }
   },
   "outputs": [
    {
     "name": "stdout",
     "output_type": "stream",
     "text": [
      "init ('a',) {}\n",
      "build (<function B.f at 0x000001965C63E480>,) {}\n",
      "call (<function B.g at 0x000001965C63E480>,) {}\n"
     ]
    }
   ],
   "source": [
    "class B:\n",
    "\t@A('a').build\n",
    "\tdef f(self, x, y):\n",
    "\t\tprint('f', x, y)\n",
    "\t@f\n",
    "\tdef g(self, x, y):\n",
    "\t\tpass"
   ]
  },
  {
   "cell_type": "code",
   "execution_count": 4,
   "metadata": {
    "ExecuteTime": {
     "end_time": "2025-07-07T13:22:05.972278Z",
     "start_time": "2025-07-07T13:22:05.961574Z"
    },
    "collapsed": false
   },
   "outputs": [
    {
     "data": {
      "text/plain": [
       "<__main__.A at 0x1965c3df9b0>"
      ]
     },
     "execution_count": 4,
     "metadata": {},
     "output_type": "execute_result"
    }
   ],
   "source": [
    "B.f"
   ]
  },
  {
   "cell_type": "code",
   "execution_count": 5,
   "metadata": {
    "ExecuteTime": {
     "end_time": "2025-07-07T13:22:08.360508Z",
     "start_time": "2025-07-07T13:22:08.353479Z"
    }
   },
   "outputs": [
    {
     "data": {
      "text/plain": [
       "<__main__.A at 0x1965c3df9b0>"
      ]
     },
     "execution_count": 5,
     "metadata": {},
     "output_type": "execute_result"
    }
   ],
   "source": [
    "B.g"
   ]
  },
  {
   "cell_type": "code",
   "execution_count": 1,
   "metadata": {},
   "outputs": [],
   "source": [
    "class A:\n",
    "    def __bool__(self):\n",
    "        return False"
   ]
  },
  {
   "cell_type": "code",
   "execution_count": 2,
   "metadata": {},
   "outputs": [
    {
     "name": "stdout",
     "output_type": "stream",
     "text": [
      "A is True\n"
     ]
    }
   ],
   "source": [
    "if A:\n",
    "    print(\"A is True\")\n",
    "if A():\n",
    "    print(\"A() is True\")"
   ]
  },
  {
   "cell_type": "code",
   "execution_count": null,
   "metadata": {},
   "outputs": [],
   "source": []
  }
 ],
 "metadata": {
  "kernelspec": {
   "display_name": "base",
   "language": "python",
   "name": "python3"
  },
  "language_info": {
   "codemirror_mode": {
    "name": "ipython",
    "version": 3
   },
   "file_extension": ".py",
   "mimetype": "text/x-python",
   "name": "python",
   "nbconvert_exporter": "python",
   "pygments_lexer": "ipython3",
   "version": "3.12.4"
  }
 },
 "nbformat": 4,
 "nbformat_minor": 0
}
